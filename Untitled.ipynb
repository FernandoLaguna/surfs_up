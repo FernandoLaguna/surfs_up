{
 "cells": [
  {
   "cell_type": "code",
   "execution_count": 1,
   "id": "018067bf",
   "metadata": {},
   "outputs": [],
   "source": [
    "# import is datetime, NumPy, and Pandas\n",
    "import datetime as dt\n",
    "import numpy as np\n",
    "import pandas as pd\n",
    "\n",
    "#Add the SQLAlchemy dependencies \n",
    "import sqlalchemy\n",
    "from sqlalchemy.ext.automap import automap_base\n",
    "from sqlalchemy.orm import Session\n",
    "from sqlalchemy import create_engine, func\n",
    "\n",
    "#add the code to import the dependencies that we need for Flask.\n",
    "from flask import Flask, jsonify"
   ]
  },
  {
   "cell_type": "code",
   "execution_count": 2,
   "id": "cb0797ec",
   "metadata": {},
   "outputs": [
    {
     "data": {
      "text/plain": [
       "'C:\\\\Users\\\\maria\\\\Desktop\\\\Classwork\\\\Modulo_9\\\\surfs_up'"
      ]
     },
     "execution_count": 2,
     "metadata": {},
     "output_type": "execute_result"
    }
   ],
   "source": [
    "pwd\n"
   ]
  },
  {
   "cell_type": "code",
   "execution_count": null,
   "id": "0c2e6059",
   "metadata": {},
   "outputs": [],
   "source": [
    "# import is datetime, NumPy, and Pandas\n",
    "import datetime as dt\n",
    "import numpy as np\n",
    "import pandas as pd\n",
    "\n",
    "#Add the SQLAlchemy dependencies \n",
    "import sqlalchemy\n",
    "from sqlalchemy.ext.automap import automap_base\n",
    "from sqlalchemy.orm import Session\n",
    "from sqlalchemy import create_engine, func\n",
    "\n",
    "#add the code to import the dependencies that we need for Flask.\n",
    "from flask import Flask, jsonify\n",
    "\n",
    "#set up our database engine for the Flask application\n",
    "engine = create_engine(\"sqlite:///hawaii.sqlite\")\n",
    "\n",
    "# reflect the tables\n",
    "Base = automap_base()\n",
    "Base.prepare(engine, reflect=True)\n",
    "\n",
    "# Save references to each table\n",
    "Measurement = Base.classes.measurement\n",
    "Station = Base.classes.station\n",
    "\n",
    "#create a session link from Python to our database\n",
    "session = Session(engine)\n",
    "\n",
    "# Set Up Flask\n",
    "app = Flask(__name__)\n",
    "\n",
    "# define the welcome route\n",
    "@app.route(\"/\")\n",
    "def welcome():\n",
    "    return(\n",
    "    '''\n",
    "    Welcome to the Climate Analysis API!\n",
    "    Available Routes:\n",
    "    /api/v1.0/precipitation\n",
    "    /api/v1.0/stations\n",
    "    /api/v1.0/tobs\n",
    "    /api/v1.0/temp/start/end\n",
    "    ''')\n",
    "\n",
    "#Create precipitation route\n",
    "@app.route(\"/api/v1.0/precipitation\")\n",
    "\n",
    "#Next, we will create the precipitation() function\n",
    "def precipitation():\n",
    "    #add the line of code that calculates the date one year ago from the most recent date in the database\n",
    "   prev_year = dt.date(2017, 8, 23) - dt.timedelta(days=365)\n",
    "   #write a query to get the date and precipitation for the previous year.\n",
    "   precipitation = session.query(Measurement.date, Measurement.prcp).\\\n",
    "    filter(Measurement.date >= prev_year).all()\n",
    "    # create a dictionary with the date as the key and the precipitation as the value\n",
    "   precip = {date: prcp for date, prcp in precipitation}\n",
    "   return jsonify(precip)\n",
    "\n",
    "#we'll create a new function called stations()\n",
    "@app.route(\"/api/v1.0/stations\")\n",
    "# create a query that will allow us to get all of the stations in our database\n",
    "def stations():\n",
    "    results = session.query(Station.station).all()\n",
    "    # Next, we will convert our unraveled results into a list. To convert the results to a list, \n",
    "    # we will need to use the list function, which is list(), \n",
    "    # and then convert that array into a list. Then we'll jsonify the list and return it as JSON.\n",
    "    stations = list(np.ravel(results))\n",
    "    return jsonify(stations=stations)"
   ]
  }
 ],
 "metadata": {
  "kernelspec": {
   "display_name": "Python 3",
   "language": "python",
   "name": "python3"
  },
  "language_info": {
   "codemirror_mode": {
    "name": "ipython",
    "version": 3
   },
   "file_extension": ".py",
   "mimetype": "text/x-python",
   "name": "python",
   "nbconvert_exporter": "python",
   "pygments_lexer": "ipython3",
   "version": "3.8.8"
  }
 },
 "nbformat": 4,
 "nbformat_minor": 5
}
